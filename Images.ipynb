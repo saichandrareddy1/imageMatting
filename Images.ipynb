{
 "cells": [
  {
   "cell_type": "code",
   "execution_count": 1,
   "metadata": {},
   "outputs": [],
   "source": [
    "import cv2\n",
    "import numpy as np"
   ]
  },
  {
   "cell_type": "code",
   "execution_count": 2,
   "metadata": {},
   "outputs": [
    {
     "name": "stdout",
     "output_type": "stream",
     "text": [
      "(564, 800, 3)\n"
     ]
    },
    {
     "data": {
      "text/plain": [
       "True"
      ]
     },
     "execution_count": 2,
     "metadata": {},
     "output_type": "execute_result"
    }
   ],
   "source": [
    "#read image\n",
    "src = cv2.imread('input_lowres/doll.png', cv2.IMREAD_UNCHANGED)\n",
    "print(src.shape)\n",
    "\n",
    "# extract red channel\n",
    "red_channel = src[:,:,2]\n",
    "\n",
    "# create empty image with same shape as that of src image\n",
    "red_img = np.zeros(src.shape)\n",
    "\n",
    "#assign the red channel of src to empty image\n",
    "red_img[:,:,2] = red_channel\n",
    "\n",
    "#save image\n",
    "cv2.imwrite('cv2-red-channel.png',red_img) "
   ]
  },
  {
   "cell_type": "code",
   "execution_count": 6,
   "metadata": {},
   "outputs": [
    {
     "name": "stdout",
     "output_type": "stream",
     "text": [
      "(564, 800, 3)\n"
     ]
    },
    {
     "data": {
      "text/plain": [
       "True"
      ]
     },
     "execution_count": 6,
     "metadata": {},
     "output_type": "execute_result"
    }
   ],
   "source": [
    "#Green image\n",
    "src = cv2.imread('input_lowres/doll.png', cv2.IMREAD_UNCHANGED)\n",
    "print(src.shape)\n",
    "\n",
    "# extract red channel\n",
    "Green_channel = src[:,:,1]\n",
    "\n",
    "# create empty image with same shape as that of src image\n",
    "Green_img = np.zeros(src.shape)\n",
    "\n",
    "#assign the red channel of src to empty image\n",
    "Green_img[:,:,1] = Green_channel\n",
    "\n",
    "#save image\n",
    "cv2.imwrite('cv2-Green-channel.png', Green_img) "
   ]
  },
  {
   "cell_type": "code",
   "execution_count": 8,
   "metadata": {},
   "outputs": [
    {
     "name": "stdout",
     "output_type": "stream",
     "text": [
      "(564, 800, 3)\n"
     ]
    },
    {
     "data": {
      "text/plain": [
       "True"
      ]
     },
     "execution_count": 8,
     "metadata": {},
     "output_type": "execute_result"
    }
   ],
   "source": [
    "#Blue image\n",
    "src = cv2.imread('input_lowres/doll.png', cv2.IMREAD_UNCHANGED)\n",
    "print(src.shape)\n",
    "\n",
    "# extract red channel\n",
    "Blue_channel = src[:,:,0]\n",
    "\n",
    "# create empty image with same shape as that of src image\n",
    "Blue_img = np.zeros(src.shape)\n",
    "\n",
    "#assign the red channel of src to empty image\n",
    "Blue_img[:,:,0] = Green_channel\n",
    "\n",
    "#save image\n",
    "cv2.imwrite('cv2-Blue-channel.png', Blue_img) "
   ]
  },
  {
   "cell_type": "code",
   "execution_count": 15,
   "metadata": {},
   "outputs": [
    {
     "name": "stdout",
     "output_type": "stream",
     "text": [
      "(564, 800)\n"
     ]
    },
    {
     "data": {
      "text/plain": [
       "True"
      ]
     },
     "execution_count": 15,
     "metadata": {},
     "output_type": "execute_result"
    }
   ],
   "source": [
    "#Blue image\n",
    "src = cv2.imread('input_lowres/doll.png', cv2.IMREAD_GRAYSCALE)\n",
    "src = src//255\n",
    "print(src.shape)\n",
    "\n",
    "# extract red channel\n",
    "Blue_channel = (src[:,:] == 0)\n",
    "\n",
    "# create empty image with same shape as that of src image\n",
    "Blue_img = np.zeros(src.shape)\n",
    "\n",
    "#assign the red channel of src to empty image\n",
    "Blue_img[:,:] = Green_channel\n",
    "\n",
    "#save image\n",
    "cv2.imwrite('cv2-White-channel.png', Blue_img) "
   ]
  },
  {
   "cell_type": "code",
   "execution_count": null,
   "metadata": {},
   "outputs": [],
   "source": []
  },
  {
   "cell_type": "code",
   "execution_count": null,
   "metadata": {},
   "outputs": [],
   "source": []
  },
  {
   "cell_type": "code",
   "execution_count": null,
   "metadata": {},
   "outputs": [],
   "source": []
  },
  {
   "cell_type": "code",
   "execution_count": null,
   "metadata": {},
   "outputs": [],
   "source": []
  },
  {
   "cell_type": "code",
   "execution_count": null,
   "metadata": {},
   "outputs": [],
   "source": []
  },
  {
   "cell_type": "code",
   "execution_count": null,
   "metadata": {},
   "outputs": [],
   "source": []
  },
  {
   "cell_type": "code",
   "execution_count": null,
   "metadata": {},
   "outputs": [],
   "source": []
  },
  {
   "cell_type": "code",
   "execution_count": null,
   "metadata": {},
   "outputs": [],
   "source": []
  },
  {
   "cell_type": "code",
   "execution_count": null,
   "metadata": {},
   "outputs": [],
   "source": []
  },
  {
   "cell_type": "code",
   "execution_count": null,
   "metadata": {},
   "outputs": [],
   "source": []
  },
  {
   "cell_type": "code",
   "execution_count": null,
   "metadata": {},
   "outputs": [],
   "source": []
  },
  {
   "cell_type": "code",
   "execution_count": null,
   "metadata": {},
   "outputs": [],
   "source": []
  }
 ],
 "metadata": {
  "kernelspec": {
   "display_name": "Python 3",
   "language": "python",
   "name": "python3"
  },
  "language_info": {
   "codemirror_mode": {
    "name": "ipython",
    "version": 3
   },
   "file_extension": ".py",
   "mimetype": "text/x-python",
   "name": "python",
   "nbconvert_exporter": "python",
   "pygments_lexer": "ipython3",
   "version": "3.7.4"
  }
 },
 "nbformat": 4,
 "nbformat_minor": 2
}
