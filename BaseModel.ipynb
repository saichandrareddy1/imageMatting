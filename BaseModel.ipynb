{
 "cells": [
  {
   "cell_type": "code",
   "execution_count": 6,
   "metadata": {},
   "outputs": [],
   "source": [
    "import numpy as np\n",
    "import keras.backend as K\n",
    "from tensorflow.keras.layers import Conv2D\n",
    "from tensorflow.keras.activations import relu\n",
    "from tensorflow.keras.models import Sequential"
   ]
  },
  {
   "cell_type": "code",
   "execution_count": 10,
   "metadata": {},
   "outputs": [],
   "source": [
    "# model\n",
    "\n",
    "# Input layer\n",
    "# conv 9x9 relu (27x27x05) \n",
    "\n",
    "model = Sequential()\n",
    "model.add(Conv2D(32, kernel_size=(9, 9), activation='relu', input_shape=(27, 27, 5)))\n",
    "\n",
    "#model.output_shape()\n",
    "# Feature Map layers\n",
    "# conv 1x1 relu (19x19x64)\n",
    "\n",
    "model.add(Conv2D(64, kernel_size=(1, 1), activation='relu'))\n",
    "\n",
    "# conv 1x1 relu (19x19x64)\n",
    "model.add(Conv2D(64, kernel_size=(1, 1), activation='relu'))\n",
    "# conv 1x1 relu (19x19x64)\n",
    "model.add(Conv2D(64, kernel_size=(1, 1), activation='relu'))\n",
    "# conv 1x1 relu (19x19x64)\n",
    "model.add(Conv2D(64, kernel_size=(1, 1), activation='relu'))\n",
    "\n",
    "# conv 5x5 relu (19x19x32)\n",
    "model.add(Conv2D(64, kernel_size=(5, 5), activation='relu'))\n",
    "\n",
    "# output\n",
    "# conv 1x1 relu (15x15x01)\n",
    "model.add(Conv2D(1, kernel_size=(1, 1), activation='relu'))"
   ]
  },
  {
   "cell_type": "code",
   "execution_count": 11,
   "metadata": {},
   "outputs": [
    {
     "name": "stdout",
     "output_type": "stream",
     "text": [
      "Model: \"sequential_3\"\n",
      "_________________________________________________________________\n",
      "Layer (type)                 Output Shape              Param #   \n",
      "=================================================================\n",
      "conv2d_6 (Conv2D)            (None, 19, 19, 32)        12992     \n",
      "_________________________________________________________________\n",
      "conv2d_7 (Conv2D)            (None, 19, 19, 64)        2112      \n",
      "_________________________________________________________________\n",
      "conv2d_8 (Conv2D)            (None, 19, 19, 64)        4160      \n",
      "_________________________________________________________________\n",
      "conv2d_9 (Conv2D)            (None, 19, 19, 64)        4160      \n",
      "_________________________________________________________________\n",
      "conv2d_10 (Conv2D)           (None, 19, 19, 64)        4160      \n",
      "_________________________________________________________________\n",
      "conv2d_11 (Conv2D)           (None, 15, 15, 64)        102464    \n",
      "_________________________________________________________________\n",
      "conv2d_12 (Conv2D)           (None, 15, 15, 1)         65        \n",
      "=================================================================\n",
      "Total params: 130,113\n",
      "Trainable params: 130,113\n",
      "Non-trainable params: 0\n",
      "_________________________________________________________________\n"
     ]
    }
   ],
   "source": [
    "model.summary()"
   ]
  },
  {
   "cell_type": "code",
   "execution_count": null,
   "metadata": {},
   "outputs": [],
   "source": []
  }
 ],
 "metadata": {
  "kernelspec": {
   "display_name": "Python 3",
   "language": "python",
   "name": "python3"
  },
  "language_info": {
   "codemirror_mode": {
    "name": "ipython",
    "version": 3
   },
   "file_extension": ".py",
   "mimetype": "text/x-python",
   "name": "python",
   "nbconvert_exporter": "python",
   "pygments_lexer": "ipython3",
   "version": "3.7.4"
  }
 },
 "nbformat": 4,
 "nbformat_minor": 2
}
