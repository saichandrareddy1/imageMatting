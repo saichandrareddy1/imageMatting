{
 "cells": [
  {
   "cell_type": "code",
   "execution_count": 1,
   "metadata": {},
   "outputs": [],
   "source": [
    "#errors\n",
    "import numpy as np\n",
    "\n",
    "\n",
    "#Mean Square error\n",
    "def MeanSquareError(predict, original):\n",
    "    \n",
    "    mse = (1/len(data))(sum((predict - original)**2))\n",
    "    \n",
    "    return mse\n",
    "\n",
    "\n",
    "#absoulte error\n",
    "\n",
    "def absoluteerror(predict, original):\n",
    "    \n",
    "    ae = abs(original - predict)\n",
    "    \n",
    "    return ae\n",
    "\n",
    "    \n",
    "#root mean square error\n",
    "\n",
    "def RootMeanSquareError(predict, original):\n",
    "    rmse = np.sqrt((1/len(data))(sum((predict - original)**2)))\n",
    "    return rmse\n"
   ]
  },
  {
   "cell_type": "code",
   "execution_count": null,
   "metadata": {},
   "outputs": [],
   "source": []
  }
 ],
 "metadata": {
  "kernelspec": {
   "display_name": "Python 3",
   "language": "python",
   "name": "python3"
  },
  "language_info": {
   "codemirror_mode": {
    "name": "ipython",
    "version": 3
   },
   "file_extension": ".py",
   "mimetype": "text/x-python",
   "name": "python",
   "nbconvert_exporter": "python",
   "pygments_lexer": "ipython3",
   "version": "3.7.4"
  }
 },
 "nbformat": 4,
 "nbformat_minor": 2
}
